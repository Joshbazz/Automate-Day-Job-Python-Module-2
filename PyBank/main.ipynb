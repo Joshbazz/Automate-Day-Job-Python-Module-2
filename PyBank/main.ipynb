{
 "cells": [
  {
   "cell_type": "code",
   "execution_count": 4,
   "metadata": {},
   "outputs": [],
   "source": [
    "# import modules necessary for code running\n",
    "from pathlib import Path\n",
    "import csv\n",
    "\n",
    "# create Path object and assign to csv_file_path variable\n",
    "csv_file_path = Path('budget_data.csv')"
   ]
  },
  {
   "cell_type": "code",
   "execution_count": 5,
   "metadata": {},
   "outputs": [],
   "source": [
    "# instantiate variables\n",
    "total_months = 0\n",
    "net_profit_loss = 0\n",
    "greatest_profit = 0\n",
    "worst_loss = 0\n",
    "greatest_profit_month = ''\n",
    "worst_loss_month = ''\n",
    "previous_profit_loss = None\n",
    "total_change = 0"
   ]
  },
  {
   "cell_type": "code",
   "execution_count": 6,
   "metadata": {},
   "outputs": [],
   "source": [
    "# open the Path object contained in csv_file_path variable\n",
    "with open(csv_file_path, 'r') as csv_file:\n",
    "    csv_reader = csv.reader(csv_file)\n",
    "\n",
    "    # skip the header row\n",
    "    next(csv_reader)\n",
    "\n",
    "    # loop through the rows in the CSV\n",
    "    for row in csv_reader:\n",
    "\n",
    "        # increment total_months variable by 1 for each iteration\n",
    "        total_months += 1\n",
    "\n",
    "        # convert data in row at Index 1 to integer form and store in variable profit_loss\n",
    "        profit_loss = int(row[1])\n",
    "\n",
    "        # update net_profit_loss with the value of profit_loss held in current iteration\n",
    "        net_profit_loss += profit_loss\n",
    "\n",
    "        # create conditional which executes if previous_profit_loss variable is not empty\n",
    "        if previous_profit_loss is not None:\n",
    "\n",
    "            # create variable change and set equal to profit_loss variable minus previous_profit_loss \n",
    "            change = profit_loss - previous_profit_loss\n",
    "\n",
    "            # update total_change with the addition of the change variable above\n",
    "            total_change += change\n",
    "\n",
    "            # for loop visualization\n",
    "            # print(f\"Change in profit/loss for {row[0]}: {change}\")\n",
    "\n",
    "            # create conditional for checking if change is greater than the max profit held in greatest_profit variable\n",
    "            if change > greatest_profit:\n",
    "                greatest_profit = change\n",
    "                greatest_profit_month = row[0]\n",
    "            \n",
    "            # for loop visualization\n",
    "            # print(f\"New greatest increase in profit: {greatest_profit} (Month: {greatest_profit_month})\")\n",
    "\n",
    "            # create conditional for checking if change is less than the minimum held in worst_loss variable\n",
    "            if change < worst_loss:\n",
    "                worst_loss = change\n",
    "                worst_loss_month = row[0]\n",
    "\n",
    "            # for loop visualization    \n",
    "            # print(f\"New greatest decrease in profit: {worst_loss} (Month: {worst_loss_month})\")\n",
    "\n",
    "        # at end of conditional, set previous_profit_loss equal to profit_loss     \n",
    "        previous_profit_loss = profit_loss\n",
    "\n",
    "# instantiate average_change variable\n",
    "average_change = total_change / (total_months - 1)\n"
   ]
  },
  {
   "cell_type": "code",
   "execution_count": 7,
   "metadata": {},
   "outputs": [
    {
     "name": "stdout",
     "output_type": "stream",
     "text": [
      "Financial Analysis\n",
      "-------------------------\n",
      "Total Months: 86\n",
      "Total: $38382578\n",
      "Average Change: $-2315.12\n",
      "Greatest Increase in Profits: Feb-2012 ($1926159)\n",
      "Greatest Increase in Profits: Sep-2013 ($-2196167)\n"
     ]
    }
   ],
   "source": [
    "# print results to the console\n",
    "print(\"Financial Analysis\")\n",
    "print(\"-------------------------\")\n",
    "print(f\"Total Months: {total_months}\")\n",
    "print(f\"Total: ${net_profit_loss}\")\n",
    "print(f\"Average Change: ${round(average_change, 2)}\")\n",
    "print(f\"Greatest Increase in Profits: {greatest_profit_month} (${greatest_profit})\")\n",
    "print(f\"Greatest Increase in Profits: {worst_loss_month} (${worst_loss})\")"
   ]
  },
  {
   "cell_type": "code",
   "execution_count": 8,
   "metadata": {},
   "outputs": [
    {
     "name": "stdout",
     "output_type": "stream",
     "text": [
      "The content has been written to the output_file\n"
     ]
    }
   ],
   "source": [
    "# print results to the output.txt file \n",
    "with open('output.txt', 'w') as output_file:\n",
    "    print(\"Financial Analysis\", file=output_file)\n",
    "    print(\"-------------------------\", file=output_file)\n",
    "    print(f\"Total Months: {total_months}\", file=output_file)\n",
    "    print(f\"Total: ${net_profit_loss}\", file=output_file)\n",
    "    print(f\"Average Change: ${round(average_change, 2)}\", file=output_file)\n",
    "    print(f\"Greatest Increase in Profits: {greatest_profit_month} (${greatest_profit})\", file=output_file)\n",
    "    print(f\"Greatest Increase in Profits: {worst_loss_month} (${worst_loss})\", file=output_file)\n",
    "\n",
    "print(f\"The content has been written to the output_file\")"
   ]
  },
  {
   "cell_type": "code",
   "execution_count": null,
   "metadata": {},
   "outputs": [],
   "source": []
  }
 ],
 "metadata": {
  "kernelspec": {
   "display_name": "dev",
   "language": "python",
   "name": "python3"
  },
  "language_info": {
   "codemirror_mode": {
    "name": "ipython",
    "version": 3
   },
   "file_extension": ".py",
   "mimetype": "text/x-python",
   "name": "python",
   "nbconvert_exporter": "python",
   "pygments_lexer": "ipython3",
   "version": "3.10.13"
  }
 },
 "nbformat": 4,
 "nbformat_minor": 2
}
