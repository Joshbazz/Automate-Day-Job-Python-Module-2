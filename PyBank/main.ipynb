{
 "cells": [
  {
   "cell_type": "code",
   "execution_count": 1,
   "metadata": {},
   "outputs": [],
   "source": [
    "from pathlib import Path\n",
    "import csv\n",
    "\n",
    "csv_file_path = Path('budget_data.csv')"
   ]
  },
  {
   "cell_type": "code",
   "execution_count": 50,
   "metadata": {},
   "outputs": [],
   "source": [
    "total_months = 0\n",
    "net_profit_loss = 0\n",
    "greatest_profit = 0\n",
    "worst_loss = 0\n",
    "greatest_profit_month = ''\n",
    "worst_loss_month = ''\n",
    "previous_profit_loss = None\n",
    "total_change = 0"
   ]
  },
  {
   "cell_type": "code",
   "execution_count": 51,
   "metadata": {},
   "outputs": [],
   "source": [
    "with open(csv_file_path, 'r') as csv_file:\n",
    "    csv_reader = csv.reader(csv_file)\n",
    "\n",
    "    next(csv_reader)\n",
    "\n",
    "    for row in csv_reader:\n",
    "\n",
    "        total_months += 1\n",
    "\n",
    "        profit_loss = int(row[1])\n",
    "\n",
    "        net_profit_loss += profit_loss\n",
    "\n",
    "        if previous_profit_loss is not None:\n",
    "\n",
    "            change = profit_loss - previous_profit_loss\n",
    "            total_change += change\n",
    "\n",
    "            # for loop visualization\n",
    "            # print(f\"Change in profit/loss for {row[0]}: {change}\")\n",
    "\n",
    "            if change > greatest_profit:\n",
    "                greatest_profit = change\n",
    "                greatest_profit_month = row[0]\n",
    "            \n",
    "            # for loop visualization\n",
    "            # print(f\"New greatest increase in profit: {greatest_profit} (Month: {greatest_profit_month})\")\n",
    "\n",
    "            if change < worst_loss:\n",
    "                worst_loss = change\n",
    "                worst_loss_month = row[0]\n",
    "\n",
    "            # for loop visualization    \n",
    "            # print(f\"New greatest decrease in profit: {worst_loss} (Month: {worst_loss_month})\")\n",
    "                \n",
    "        previous_profit_loss = profit_loss\n",
    "\n",
    "average_change = total_change / (total_months - 1)\n"
   ]
  },
  {
   "cell_type": "code",
   "execution_count": 52,
   "metadata": {},
   "outputs": [
    {
     "name": "stdout",
     "output_type": "stream",
     "text": [
      "Financial Analysis\n",
      "-------------------------\n",
      "Total Months: 86\n",
      "Total: $38382578\n",
      "Average Change: $-2315.12\n",
      "Greatest Increase in Profits: Feb-2012 ($1926159)\n",
      "Greatest Increase in Profits: Sep-2013 ($-2196167)\n"
     ]
    }
   ],
   "source": [
    "print(\"Financial Analysis\")\n",
    "print(\"-------------------------\")\n",
    "print(f\"Total Months: {total_months}\")\n",
    "print(f\"Total: ${net_profit_loss}\")\n",
    "print(f\"Average Change: ${round(average_change, 2)}\")\n",
    "print(f\"Greatest Increase in Profits: {greatest_profit_month} (${greatest_profit})\")\n",
    "print(f\"Greatest Increase in Profits: {worst_loss_month} (${worst_loss})\")"
   ]
  },
  {
   "cell_type": "code",
   "execution_count": 53,
   "metadata": {},
   "outputs": [
    {
     "name": "stdout",
     "output_type": "stream",
     "text": [
      "The content has been written to the output_file\n"
     ]
    }
   ],
   "source": [
    "with open('output.txt', 'w') as output_file:\n",
    "    print(\"Financial Analysis\", file=output_file)\n",
    "    print(\"-------------------------\", file=output_file)\n",
    "    print(f\"Total Months: {total_months}\", file=output_file)\n",
    "    print(f\"Total: ${net_profit_loss}\", file=output_file)\n",
    "    print(f\"Average Change: ${round(average_change, 2)}\", file=output_file)\n",
    "    print(f\"Greatest Increase in Profits: {greatest_profit_month} (${greatest_profit})\", file=output_file)\n",
    "    print(f\"Greatest Increase in Profits: {worst_loss_month} (${worst_loss})\", file=output_file)\n",
    "\n",
    "print(f\"The content has been written to the output_file\")"
   ]
  },
  {
   "cell_type": "code",
   "execution_count": null,
   "metadata": {},
   "outputs": [],
   "source": []
  }
 ],
 "metadata": {
  "kernelspec": {
   "display_name": "dev",
   "language": "python",
   "name": "python3"
  },
  "language_info": {
   "codemirror_mode": {
    "name": "ipython",
    "version": 3
   },
   "file_extension": ".py",
   "mimetype": "text/x-python",
   "name": "python",
   "nbconvert_exporter": "python",
   "pygments_lexer": "ipython3",
   "version": "3.10.13"
  }
 },
 "nbformat": 4,
 "nbformat_minor": 2
}
